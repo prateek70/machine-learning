{
 "cells": [
  {
   "cell_type": "code",
   "execution_count": 1,
   "metadata": {
    "id": "2Ou_oXxkNWxN"
   },
   "outputs": [],
   "source": [
    "import tensorflow as tf\n",
    "from keras.preprocessing.image import ImageDataGenerator"
   ]
  },
  {
   "cell_type": "code",
   "execution_count": 2,
   "metadata": {
    "colab": {
     "base_uri": "https://localhost:8080/",
     "height": 415
    },
    "id": "v-3vwuoVTzJb",
    "outputId": "8379b5e5-2b3b-491f-c89b-203d909159a6"
   },
   "outputs": [
    {
     "name": "stdout",
     "output_type": "stream",
     "text": [
      "Found 8000 images belonging to 2 classes.\n"
     ]
    }
   ],
   "source": [
    "train_datagen = ImageDataGenerator(\n",
    "        rescale = 1./255,\n",
    "        shear_range= 0.2,\n",
    "        zoom_range= 0.2,\n",
    "        horizontal_flip= True)\n",
    "training_set = train_datagen.flow_from_directory('dataset/training_set',\n",
    "                                                 target_size = (64, 64),\n",
    "                                                 batch_size = 32,\n",
    "                                                 class_mode = 'binary')"
   ]
  },
  {
   "cell_type": "code",
   "execution_count": 3,
   "metadata": {
    "id": "FYwrnm_sXidE"
   },
   "outputs": [
    {
     "name": "stdout",
     "output_type": "stream",
     "text": [
      "Found 2000 images belonging to 2 classes.\n"
     ]
    }
   ],
   "source": [
    "test_datagen = ImageDataGenerator(rescale = 1./255)\n",
    "test_set = test_datagen.flow_from_directory(\n",
    "          'dataset/test_set',\n",
    "          target_size = (64,64),\n",
    "          batch_size=32,\n",
    "          class_mode = 'binary')"
   ]
  },
  {
   "cell_type": "code",
   "execution_count": 4,
   "metadata": {
    "id": "ln-ALYlTZE0Y"
   },
   "outputs": [],
   "source": [
    "cnn = tf.keras.models.Sequential()"
   ]
  },
  {
   "cell_type": "code",
   "execution_count": 5,
   "metadata": {
    "id": "iNT6yvwAZcfD"
   },
   "outputs": [],
   "source": [
    "cnn.add(tf.keras.layers.Conv2D(filters = 32, kernel_size = 3, activation ='relu', input_shape = [64,64, 3]))"
   ]
  },
  {
   "cell_type": "code",
   "execution_count": 6,
   "metadata": {
    "id": "621J7GXRu1Nn"
   },
   "outputs": [],
   "source": [
    "cnn.add(tf.keras.layers.MaxPool2D(pool_size = 2, strides = 2,))"
   ]
  },
  {
   "cell_type": "code",
   "execution_count": 7,
   "metadata": {
    "id": "BhIzhN7hvzMv"
   },
   "outputs": [],
   "source": [
    "cnn.add(tf.keras.layers.Conv2D(filters = 32, kernel_size = 3, activation ='relu',))\n",
    "cnn.add(tf.keras.layers.MaxPool2D(pool_size = 2, strides = 2,))"
   ]
  },
  {
   "cell_type": "code",
   "execution_count": 8,
   "metadata": {
    "id": "E3q2CbNFv_FM"
   },
   "outputs": [],
   "source": [
    "cnn.add(tf.keras.layers.Flatten())"
   ]
  },
  {
   "cell_type": "code",
   "execution_count": 9,
   "metadata": {
    "id": "Qb0y29SIwUNe"
   },
   "outputs": [],
   "source": [
    "cnn.add(tf.keras.layers.Dense(units = 128, activation ='relu'))"
   ]
  },
  {
   "cell_type": "code",
   "execution_count": 10,
   "metadata": {
    "id": "7zS7pCxaw8Rx"
   },
   "outputs": [],
   "source": [
    "cnn.add(tf.keras.layers.Dense(units = 1, activation ='sigmoid'))"
   ]
  },
  {
   "cell_type": "code",
   "execution_count": 11,
   "metadata": {
    "id": "YGGu4X3IxcPT"
   },
   "outputs": [],
   "source": [
    "cnn.compile(optimizer= 'adam',loss = 'binary_crossentropy', metrics = ['accuracy'])"
   ]
  },
  {
   "cell_type": "code",
   "execution_count": 12,
   "metadata": {
    "id": "SGKqpUwX0y69",
    "scrolled": false
   },
   "outputs": [
    {
     "name": "stdout",
     "output_type": "stream",
     "text": [
      "Epoch 1/25\n",
      "250/250 [==============================] - 70s 277ms/step - loss: 0.6874 - accuracy: 0.5449 - val_loss: 0.6780 - val_accuracy: 0.5795\n",
      "Epoch 2/25\n",
      "250/250 [==============================] - 70s 278ms/step - loss: 0.6445 - accuracy: 0.6320 - val_loss: 0.6280 - val_accuracy: 0.6525\n",
      "Epoch 3/25\n",
      "250/250 [==============================] - 72s 290ms/step - loss: 0.6090 - accuracy: 0.6714 - val_loss: 0.6090 - val_accuracy: 0.6865\n",
      "Epoch 4/25\n",
      "250/250 [==============================] - 76s 305ms/step - loss: 0.5736 - accuracy: 0.7057 - val_loss: 0.5673 - val_accuracy: 0.7075\n",
      "Epoch 5/25\n",
      "250/250 [==============================] - 63s 251ms/step - loss: 0.5374 - accuracy: 0.7265 - val_loss: 0.5503 - val_accuracy: 0.7230\n",
      "Epoch 6/25\n",
      "250/250 [==============================] - 59s 237ms/step - loss: 0.5103 - accuracy: 0.7494 - val_loss: 0.5187 - val_accuracy: 0.7530\n",
      "Epoch 7/25\n",
      "250/250 [==============================] - 66s 264ms/step - loss: 0.4863 - accuracy: 0.7558 - val_loss: 0.5232 - val_accuracy: 0.7365\n",
      "Epoch 8/25\n",
      "250/250 [==============================] - 66s 264ms/step - loss: 0.4626 - accuracy: 0.7763 - val_loss: 0.4939 - val_accuracy: 0.7585\n",
      "Epoch 9/25\n",
      "250/250 [==============================] - 69s 277ms/step - loss: 0.4553 - accuracy: 0.7824 - val_loss: 0.4747 - val_accuracy: 0.7765\n",
      "Epoch 10/25\n",
      "250/250 [==============================] - 69s 277ms/step - loss: 0.4238 - accuracy: 0.7976 - val_loss: 0.4835 - val_accuracy: 0.7790\n",
      "Epoch 11/25\n",
      "250/250 [==============================] - 57s 226ms/step - loss: 0.4164 - accuracy: 0.8030 - val_loss: 0.4731 - val_accuracy: 0.7850\n",
      "Epoch 12/25\n",
      "250/250 [==============================] - 53s 214ms/step - loss: 0.3911 - accuracy: 0.8231 - val_loss: 0.5216 - val_accuracy: 0.7820\n",
      "Epoch 13/25\n",
      "250/250 [==============================] - 53s 213ms/step - loss: 0.3825 - accuracy: 0.8242 - val_loss: 0.4870 - val_accuracy: 0.7895\n",
      "Epoch 14/25\n",
      "250/250 [==============================] - 53s 213ms/step - loss: 0.3621 - accuracy: 0.8394 - val_loss: 0.4875 - val_accuracy: 0.7755\n",
      "Epoch 15/25\n",
      "250/250 [==============================] - 66s 264ms/step - loss: 0.3528 - accuracy: 0.8459 - val_loss: 0.4938 - val_accuracy: 0.7770\n",
      "Epoch 16/25\n",
      "250/250 [==============================] - 79s 316ms/step - loss: 0.3348 - accuracy: 0.8540 - val_loss: 0.4947 - val_accuracy: 0.7900\n",
      "Epoch 17/25\n",
      "250/250 [==============================] - 72s 287ms/step - loss: 0.3221 - accuracy: 0.8604 - val_loss: 0.4632 - val_accuracy: 0.7960\n",
      "Epoch 18/25\n",
      "250/250 [==============================] - 73s 293ms/step - loss: 0.3035 - accuracy: 0.8641 - val_loss: 0.5255 - val_accuracy: 0.7935\n",
      "Epoch 19/25\n",
      "250/250 [==============================] - 75s 300ms/step - loss: 0.2952 - accuracy: 0.8766 - val_loss: 0.4940 - val_accuracy: 0.7895\n",
      "Epoch 20/25\n",
      "250/250 [==============================] - 81s 323ms/step - loss: 0.2713 - accuracy: 0.8857 - val_loss: 0.5160 - val_accuracy: 0.7945\n",
      "Epoch 21/25\n",
      "250/250 [==============================] - 64s 254ms/step - loss: 0.2712 - accuracy: 0.8840 - val_loss: 0.5024 - val_accuracy: 0.7845\n",
      "Epoch 22/25\n",
      "250/250 [==============================] - 73s 293ms/step - loss: 0.2506 - accuracy: 0.8950 - val_loss: 0.5583 - val_accuracy: 0.7855\n",
      "Epoch 23/25\n",
      "250/250 [==============================] - 68s 274ms/step - loss: 0.2376 - accuracy: 0.9015 - val_loss: 0.5720 - val_accuracy: 0.7870\n",
      "Epoch 24/25\n",
      "250/250 [==============================] - 58s 234ms/step - loss: 0.2266 - accuracy: 0.9044 - val_loss: 0.5512 - val_accuracy: 0.7925\n",
      "Epoch 25/25\n",
      "250/250 [==============================] - 72s 289ms/step - loss: 0.2167 - accuracy: 0.9124 - val_loss: 0.5889 - val_accuracy: 0.7880\n"
     ]
    },
    {
     "data": {
      "text/plain": [
       "<keras.src.callbacks.History at 0x20102359670>"
      ]
     },
     "execution_count": 12,
     "metadata": {},
     "output_type": "execute_result"
    }
   ],
   "source": [
    "cnn.fit(x = training_set, validation_data= test_set, epochs = 25)"
   ]
  },
  {
   "cell_type": "code",
   "execution_count": 35,
   "metadata": {
    "id": "ZtlQjODg2SKR"
   },
   "outputs": [
    {
     "name": "stdout",
     "output_type": "stream",
     "text": [
      "1/1 [==============================] - 2s 2s/step\n"
     ]
    }
   ],
   "source": [
    "import numpy as np\n",
    "from keras.preprocessing import image\n",
    "test_image = image.load_img('dataset/single_prediction/cat.4400.jpg', target_size = (64, 64))\n",
    "test_image = image.img_to_array(test_image)\n",
    "test_image = np.expand_dims(test_image, axis = 0)\n",
    "result = cnn.predict(test_image)\n",
    "training_set.class_indices\n",
    "if result[0][0] == 1:\n",
    "  prediction = 'dog'\n",
    "else:\n",
    "  prediction = 'cat'\n"
   ]
  },
  {
   "cell_type": "code",
   "execution_count": 36,
   "metadata": {},
   "outputs": [
    {
     "name": "stdout",
     "output_type": "stream",
     "text": [
      "cat\n"
     ]
    }
   ],
   "source": [
    "print(prediction)"
   ]
  },
  {
   "cell_type": "code",
   "execution_count": null,
   "metadata": {},
   "outputs": [],
   "source": []
  }
 ],
 "metadata": {
  "colab": {
   "provenance": []
  },
  "kernelspec": {
   "display_name": "Python 3 (ipykernel)",
   "language": "python",
   "name": "python3"
  },
  "language_info": {
   "codemirror_mode": {
    "name": "ipython",
    "version": 3
   },
   "file_extension": ".py",
   "mimetype": "text/x-python",
   "name": "python",
   "nbconvert_exporter": "python",
   "pygments_lexer": "ipython3",
   "version": "3.9.12"
  }
 },
 "nbformat": 4,
 "nbformat_minor": 1
}
