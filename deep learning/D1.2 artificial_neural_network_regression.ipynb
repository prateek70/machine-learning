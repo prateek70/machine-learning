{
 "cells": [
  {
   "cell_type": "code",
   "execution_count": 1,
   "id": "365b2426",
   "metadata": {},
   "outputs": [],
   "source": [
    "import numpy as np\n",
    "import pandas as pd\n",
    "import tensorflow as tf"
   ]
  },
  {
   "cell_type": "code",
   "execution_count": 2,
   "id": "23271bc8",
   "metadata": {},
   "outputs": [],
   "source": [
    "dataset =  pd.read_excel('Folds5x2_pp.xlsx')\n",
    "x = dataset.iloc[:, :-1].values\n",
    "y = dataset.iloc[:, -1].values"
   ]
  },
  {
   "cell_type": "code",
   "execution_count": 3,
   "id": "2bbdc0aa",
   "metadata": {},
   "outputs": [],
   "source": [
    "from sklearn.model_selection import train_test_split\n",
    "x_train,x_test,y_train,y_test = train_test_split(x,y, test_size = 0.2, random_state = 0)"
   ]
  },
  {
   "cell_type": "code",
   "execution_count": 4,
   "id": "e1c178ad",
   "metadata": {},
   "outputs": [],
   "source": [
    "ann = tf.keras.models.Sequential()"
   ]
  },
  {
   "cell_type": "code",
   "execution_count": 5,
   "id": "af0433ee",
   "metadata": {},
   "outputs": [],
   "source": [
    "\n",
    "ann.add(tf.keras.layers.Dense(units = 10, activation = 'relu'))"
   ]
  },
  {
   "cell_type": "code",
   "execution_count": 6,
   "id": "d8720bb7",
   "metadata": {},
   "outputs": [],
   "source": [
    "\n",
    "ann.add(tf.keras.layers.Dense(units = 10, activation = 'relu'))"
   ]
  },
  {
   "cell_type": "code",
   "execution_count": 7,
   "id": "b20a0283",
   "metadata": {},
   "outputs": [],
   "source": [
    "\n",
    "ann.add(tf.keras.layers.Dense(units = 1,))"
   ]
  },
  {
   "cell_type": "code",
   "execution_count": 8,
   "id": "66d16326",
   "metadata": {},
   "outputs": [],
   "source": [
    "ann.compile(optimizer = 'adam', loss = 'mean_squared_error')"
   ]
  },
  {
   "cell_type": "code",
   "execution_count": 9,
   "id": "4bf044ef",
   "metadata": {},
   "outputs": [
    {
     "name": "stdout",
     "output_type": "stream",
     "text": [
      "Epoch 1/100\n",
      "240/240 [==============================] - 2s 1ms/step - loss: 138163.7812\n",
      "Epoch 2/100\n",
      "240/240 [==============================] - 0s 1ms/step - loss: 2578.6213\n",
      "Epoch 3/100\n",
      "240/240 [==============================] - 0s 1ms/step - loss: 237.4936\n",
      "Epoch 4/100\n",
      "240/240 [==============================] - 0s 2ms/step - loss: 148.7952\n",
      "Epoch 5/100\n",
      "240/240 [==============================] - 0s 2ms/step - loss: 90.8635\n",
      "Epoch 6/100\n",
      "240/240 [==============================] - 0s 1ms/step - loss: 58.3648\n",
      "Epoch 7/100\n",
      "240/240 [==============================] - 0s 1ms/step - loss: 45.1228\n",
      "Epoch 8/100\n",
      "240/240 [==============================] - 0s 1ms/step - loss: 41.1439\n",
      "Epoch 9/100\n",
      "240/240 [==============================] - 0s 1ms/step - loss: 39.0843\n",
      "Epoch 10/100\n",
      "240/240 [==============================] - 0s 2ms/step - loss: 37.6233\n",
      "Epoch 11/100\n",
      "240/240 [==============================] - 0s 1ms/step - loss: 38.0489\n",
      "Epoch 12/100\n",
      "240/240 [==============================] - 0s 1ms/step - loss: 36.4538\n",
      "Epoch 13/100\n",
      "240/240 [==============================] - 0s 1ms/step - loss: 35.9960\n",
      "Epoch 14/100\n",
      "240/240 [==============================] - 0s 1ms/step - loss: 35.5026\n",
      "Epoch 15/100\n",
      "240/240 [==============================] - 0s 1ms/step - loss: 34.1869\n",
      "Epoch 16/100\n",
      "240/240 [==============================] - 0s 1ms/step - loss: 33.5838\n",
      "Epoch 17/100\n",
      "240/240 [==============================] - 0s 1ms/step - loss: 33.0607\n",
      "Epoch 18/100\n",
      "240/240 [==============================] - 0s 1ms/step - loss: 32.0509\n",
      "Epoch 19/100\n",
      "240/240 [==============================] - 0s 1ms/step - loss: 32.1603\n",
      "Epoch 20/100\n",
      "240/240 [==============================] - 0s 1ms/step - loss: 31.6209\n",
      "Epoch 21/100\n",
      "240/240 [==============================] - 0s 1ms/step - loss: 30.9705\n",
      "Epoch 22/100\n",
      "240/240 [==============================] - 0s 2ms/step - loss: 29.9031\n",
      "Epoch 23/100\n",
      "240/240 [==============================] - 0s 1ms/step - loss: 29.7458\n",
      "Epoch 24/100\n",
      "240/240 [==============================] - 0s 1ms/step - loss: 29.4212\n",
      "Epoch 25/100\n",
      "240/240 [==============================] - 0s 1ms/step - loss: 28.9103\n",
      "Epoch 26/100\n",
      "240/240 [==============================] - 0s 1ms/step - loss: 29.7150\n",
      "Epoch 27/100\n",
      "240/240 [==============================] - 0s 2ms/step - loss: 28.3281\n",
      "Epoch 28/100\n",
      "240/240 [==============================] - 0s 1ms/step - loss: 28.9313\n",
      "Epoch 29/100\n",
      "240/240 [==============================] - 0s 1ms/step - loss: 28.3881\n",
      "Epoch 30/100\n",
      "240/240 [==============================] - 0s 1ms/step - loss: 27.9671\n",
      "Epoch 31/100\n",
      "240/240 [==============================] - 0s 1ms/step - loss: 27.6250\n",
      "Epoch 32/100\n",
      "240/240 [==============================] - 0s 2ms/step - loss: 27.6687\n",
      "Epoch 33/100\n",
      "240/240 [==============================] - 0s 1ms/step - loss: 27.3270\n",
      "Epoch 34/100\n",
      "240/240 [==============================] - 0s 1ms/step - loss: 27.6543\n",
      "Epoch 35/100\n",
      "240/240 [==============================] - 0s 1ms/step - loss: 28.1134\n",
      "Epoch 36/100\n",
      "240/240 [==============================] - 0s 2ms/step - loss: 27.8801\n",
      "Epoch 37/100\n",
      "240/240 [==============================] - 0s 2ms/step - loss: 28.7395\n",
      "Epoch 38/100\n",
      "240/240 [==============================] - 0s 1ms/step - loss: 27.6816\n",
      "Epoch 39/100\n",
      "240/240 [==============================] - 0s 1ms/step - loss: 26.8339\n",
      "Epoch 40/100\n",
      "240/240 [==============================] - 0s 1ms/step - loss: 27.4438\n",
      "Epoch 41/100\n",
      "240/240 [==============================] - 0s 2ms/step - loss: 27.8829\n",
      "Epoch 42/100\n",
      "240/240 [==============================] - 0s 2ms/step - loss: 27.7881\n",
      "Epoch 43/100\n",
      "240/240 [==============================] - 1s 2ms/step - loss: 26.8860\n",
      "Epoch 44/100\n",
      "240/240 [==============================] - 0s 2ms/step - loss: 27.5586\n",
      "Epoch 45/100\n",
      "240/240 [==============================] - 0s 1ms/step - loss: 27.8364\n",
      "Epoch 46/100\n",
      "240/240 [==============================] - 0s 1ms/step - loss: 27.0910\n",
      "Epoch 47/100\n",
      "240/240 [==============================] - 0s 1ms/step - loss: 26.9636\n",
      "Epoch 48/100\n",
      "240/240 [==============================] - 0s 1ms/step - loss: 28.3997\n",
      "Epoch 49/100\n",
      "240/240 [==============================] - 0s 1ms/step - loss: 28.1406\n",
      "Epoch 50/100\n",
      "240/240 [==============================] - 0s 2ms/step - loss: 27.1394\n",
      "Epoch 51/100\n",
      "240/240 [==============================] - 0s 1ms/step - loss: 27.2649\n",
      "Epoch 52/100\n",
      "240/240 [==============================] - 0s 1ms/step - loss: 27.1156\n",
      "Epoch 53/100\n",
      "240/240 [==============================] - 0s 1ms/step - loss: 27.7464\n",
      "Epoch 54/100\n",
      "240/240 [==============================] - 0s 1ms/step - loss: 27.4453\n",
      "Epoch 55/100\n",
      "240/240 [==============================] - 0s 1ms/step - loss: 26.7304\n",
      "Epoch 56/100\n",
      "240/240 [==============================] - 0s 2ms/step - loss: 27.5932\n",
      "Epoch 57/100\n",
      "240/240 [==============================] - 0s 2ms/step - loss: 27.1359\n",
      "Epoch 58/100\n",
      "240/240 [==============================] - 0s 1ms/step - loss: 27.3373\n",
      "Epoch 59/100\n",
      "240/240 [==============================] - 0s 1ms/step - loss: 27.4222\n",
      "Epoch 60/100\n",
      "240/240 [==============================] - 0s 1ms/step - loss: 27.0742\n",
      "Epoch 61/100\n",
      "240/240 [==============================] - 0s 1ms/step - loss: 26.8130\n",
      "Epoch 62/100\n",
      "240/240 [==============================] - 0s 1ms/step - loss: 27.6235\n",
      "Epoch 63/100\n",
      "240/240 [==============================] - 0s 1ms/step - loss: 27.0315\n",
      "Epoch 64/100\n",
      "240/240 [==============================] - 0s 1ms/step - loss: 28.0293\n",
      "Epoch 65/100\n",
      "240/240 [==============================] - 0s 1ms/step - loss: 27.4712\n",
      "Epoch 66/100\n",
      "240/240 [==============================] - 0s 1ms/step - loss: 27.0022\n",
      "Epoch 67/100\n",
      "240/240 [==============================] - 0s 1ms/step - loss: 27.4321\n",
      "Epoch 68/100\n",
      "240/240 [==============================] - 0s 1ms/step - loss: 28.1943\n",
      "Epoch 69/100\n",
      "240/240 [==============================] - 0s 1ms/step - loss: 27.4865\n",
      "Epoch 70/100\n",
      "240/240 [==============================] - 0s 1ms/step - loss: 26.8960\n",
      "Epoch 71/100\n",
      "240/240 [==============================] - 0s 2ms/step - loss: 27.2641\n",
      "Epoch 72/100\n",
      "240/240 [==============================] - 0s 2ms/step - loss: 26.8074\n",
      "Epoch 73/100\n",
      "240/240 [==============================] - 0s 2ms/step - loss: 27.5851\n",
      "Epoch 74/100\n",
      "240/240 [==============================] - 0s 1ms/step - loss: 26.9790\n",
      "Epoch 75/100\n",
      "240/240 [==============================] - 0s 2ms/step - loss: 28.4880\n",
      "Epoch 76/100\n",
      "240/240 [==============================] - 0s 1ms/step - loss: 27.0908\n",
      "Epoch 77/100\n",
      "240/240 [==============================] - 0s 2ms/step - loss: 27.8787\n",
      "Epoch 78/100\n",
      "240/240 [==============================] - 0s 1ms/step - loss: 27.0498\n",
      "Epoch 79/100\n",
      "240/240 [==============================] - 0s 1ms/step - loss: 27.6701\n",
      "Epoch 80/100\n",
      "240/240 [==============================] - 0s 2ms/step - loss: 27.0730\n",
      "Epoch 81/100\n",
      "240/240 [==============================] - 0s 1ms/step - loss: 28.0971\n",
      "Epoch 82/100\n",
      "240/240 [==============================] - 0s 2ms/step - loss: 26.5544\n",
      "Epoch 83/100\n",
      "240/240 [==============================] - 0s 2ms/step - loss: 26.5465\n",
      "Epoch 84/100\n",
      "240/240 [==============================] - 0s 2ms/step - loss: 26.4434\n",
      "Epoch 85/100\n",
      "240/240 [==============================] - 0s 2ms/step - loss: 26.9901\n",
      "Epoch 86/100\n",
      "240/240 [==============================] - 0s 2ms/step - loss: 27.2795\n",
      "Epoch 87/100\n",
      "240/240 [==============================] - 0s 2ms/step - loss: 26.6062\n",
      "Epoch 88/100\n",
      "240/240 [==============================] - 0s 2ms/step - loss: 26.4274\n",
      "Epoch 89/100\n",
      "240/240 [==============================] - 0s 1ms/step - loss: 26.5951\n",
      "Epoch 90/100\n",
      "240/240 [==============================] - 0s 2ms/step - loss: 26.1158\n",
      "Epoch 91/100\n",
      "240/240 [==============================] - 0s 1ms/step - loss: 27.9127\n",
      "Epoch 92/100\n",
      "240/240 [==============================] - 0s 1ms/step - loss: 26.7411\n",
      "Epoch 93/100\n",
      "240/240 [==============================] - 0s 1ms/step - loss: 26.3770\n",
      "Epoch 94/100\n",
      "240/240 [==============================] - 0s 1ms/step - loss: 25.7858\n",
      "Epoch 95/100\n",
      "240/240 [==============================] - 0s 2ms/step - loss: 27.3256\n",
      "Epoch 96/100\n",
      "240/240 [==============================] - 0s 2ms/step - loss: 25.9193\n",
      "Epoch 97/100\n",
      "240/240 [==============================] - 0s 2ms/step - loss: 26.8427\n",
      "Epoch 98/100\n"
     ]
    },
    {
     "name": "stdout",
     "output_type": "stream",
     "text": [
      "240/240 [==============================] - 0s 2ms/step - loss: 25.8161\n",
      "Epoch 99/100\n",
      "240/240 [==============================] - 0s 2ms/step - loss: 25.9490\n",
      "Epoch 100/100\n",
      "240/240 [==============================] - 0s 1ms/step - loss: 26.4509\n"
     ]
    },
    {
     "data": {
      "text/plain": [
       "<keras.src.callbacks.History at 0x1d240c3b100>"
      ]
     },
     "execution_count": 9,
     "metadata": {},
     "output_type": "execute_result"
    }
   ],
   "source": [
    "ann.fit(x_train,y_train, epochs= 100)"
   ]
  },
  {
   "cell_type": "code",
   "execution_count": 10,
   "id": "0f560da4",
   "metadata": {},
   "outputs": [
    {
     "name": "stdout",
     "output_type": "stream",
     "text": [
      "60/60 [==============================] - 0s 1ms/step\n",
      "[[434.16 431.23]\n",
      " [463.58 460.01]\n",
      " [467.57 461.14]\n",
      " ...\n",
      " [474.93 473.26]\n",
      " [439.78 438.  ]\n",
      " [459.87 463.28]]\n"
     ]
    }
   ],
   "source": [
    "y_pred = ann.predict(x_test)\n",
    "np.set_printoptions(precision= 2)\n",
    "print(np.concatenate((y_pred.reshape(len(y_pred),1),y_test.reshape(len(y_test),1)),1))"
   ]
  },
  {
   "cell_type": "code",
   "execution_count": null,
   "id": "ecf7ffff",
   "metadata": {},
   "outputs": [],
   "source": []
  }
 ],
 "metadata": {
  "kernelspec": {
   "display_name": "Python 3 (ipykernel)",
   "language": "python",
   "name": "python3"
  },
  "language_info": {
   "codemirror_mode": {
    "name": "ipython",
    "version": 3
   },
   "file_extension": ".py",
   "mimetype": "text/x-python",
   "name": "python",
   "nbconvert_exporter": "python",
   "pygments_lexer": "ipython3",
   "version": "3.9.12"
  }
 },
 "nbformat": 4,
 "nbformat_minor": 5
}
